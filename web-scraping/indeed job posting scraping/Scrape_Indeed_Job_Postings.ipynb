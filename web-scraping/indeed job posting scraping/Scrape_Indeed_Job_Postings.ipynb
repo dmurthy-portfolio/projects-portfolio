{
  "nbformat": 4,
  "nbformat_minor": 0,
  "metadata": {
    "colab": {
      "provenance": []
    },
    "kernelspec": {
      "name": "python3",
      "display_name": "Python 3"
    },
    "language_info": {
      "name": "python"
    }
  },
  "cells": [
    {
      "cell_type": "code",
      "source": [
        "import requests\n",
        "from bs4 import BeautifulSoup\n",
        "import pandas as pd"
      ],
      "metadata": {
        "id": "hW7lnKaknqCu"
      },
      "execution_count": 9,
      "outputs": []
    },
    {
      "cell_type": "code",
      "source": [
        "#Search term\n",
        "job_title = \"data+scientist\"\n",
        "location = \"California\""
      ],
      "metadata": {
        "id": "P1B6davgo1mz"
      },
      "execution_count": 10,
      "outputs": []
    },
    {
      "cell_type": "code",
      "source": [
        "#Construct the search URL\n",
        "url = f\"https://www.indeed.com/jobs?q={job_title}&l={location}\""
      ],
      "metadata": {
        "id": "lj47aTewo7Si"
      },
      "execution_count": 12,
      "outputs": []
    },
    {
      "cell_type": "code",
      "source": [
        "# Send GET request to the Indeed page\n",
        "headers = {\n",
        "    \"User-Agent\": \"Mozilla/5.0 (Windows NT 10.0; Win64; x64) AppleWebKit/537.36 \"\n",
        "                  \"(KHTML, like Gecko) Chrome/102.0.0.0 Safari/537.36\"\n",
        "}\n",
        "response = requests.get(url, headers=headers)"
      ],
      "metadata": {
        "id": "HAXXcw9spAfM"
      },
      "execution_count": 13,
      "outputs": []
    },
    {
      "cell_type": "code",
      "source": [
        "#Parse HTML using BeautifulSoup\n",
        "soup = BeautifulSoup(response.text, \"html.parser\")"
      ],
      "metadata": {
        "id": "0GB5IoeCpGBd"
      },
      "execution_count": 14,
      "outputs": []
    },
    {
      "cell_type": "code",
      "source": [
        "#Extract job cards\n",
        "job_cards = soup.find_all(\"div\", class_=\"job_seen_beacon\")\n",
        "job_cards"
      ],
      "metadata": {
        "colab": {
          "base_uri": "https://localhost:8080/"
        },
        "id": "K1TVyjKBpMr5",
        "outputId": "0ee43c76-5e2b-4cfe-b247-0fffa9d35338"
      },
      "execution_count": 17,
      "outputs": [
        {
          "output_type": "execute_result",
          "data": {
            "text/plain": [
              "[]"
            ]
          },
          "metadata": {},
          "execution_count": 17
        }
      ]
    },
    {
      "cell_type": "code",
      "source": [
        "#Prepare empty list to hold job data\n",
        "job_list = []"
      ],
      "metadata": {
        "id": "5jGLT7pmpNpk"
      },
      "execution_count": 18,
      "outputs": []
    },
    {
      "cell_type": "code",
      "source": [
        "#Loop through each job posting and extract data\n",
        "for job in job_cards:\n",
        "    title = job.find(\"h2\", class_=\"jobTitle\")\n",
        "    company = job.find(\"span\", class_=\"companyName\")\n",
        "    location = job.find(\"div\", class_=\"companyLocation\")\n",
        "    summary = job.find(\"div\", class_=\"job-snippet\")\n",
        "    post_date = job.find(\"span\", class_=\"date\")\n",
        "    salary = job.find(\"div\", class_=\"attribute_snippet\")\n",
        "\n",
        "    job_dict = {\n",
        "        \"Title\": title.text.strip() if title else None,\n",
        "        \"Company\": company.text.strip() if company else None,\n",
        "        \"Location\": location.text.strip() if location else None,\n",
        "        \"Summary\": summary.text.strip() if summary else None,\n",
        "        \"Posted\": post_date.text.strip() if post_date else None,\n",
        "        \"Salary\": salary.text.strip() if salary else \"Not disclosed\"\n",
        "    }\n",
        "\n",
        "    job_list.append(job_dict)"
      ],
      "metadata": {
        "id": "6uv2rB88pm-H"
      },
      "execution_count": 19,
      "outputs": []
    },
    {
      "cell_type": "code",
      "source": [
        "#Convert list to DataFrame\n",
        "df = pd.DataFrame(job_list)"
      ],
      "metadata": {
        "id": "W-pXqN4cprIf"
      },
      "execution_count": 23,
      "outputs": []
    },
    {
      "cell_type": "code",
      "source": [
        "#Save to CSV\n",
        "df.to_csv(\"indeed_jobs.csv\", index=False)"
      ],
      "metadata": {
        "id": "HLDhh6nWpv2v"
      },
      "execution_count": 24,
      "outputs": []
    },
    {
      "cell_type": "code",
      "source": [
        "print(df.head())"
      ],
      "metadata": {
        "colab": {
          "base_uri": "https://localhost:8080/"
        },
        "id": "wTM4Hi1Sp1aH",
        "outputId": "e5549444-3dad-475c-cb7a-9b377fa67638"
      },
      "execution_count": 25,
      "outputs": [
        {
          "output_type": "stream",
          "name": "stdout",
          "text": [
            "Empty DataFrame\n",
            "Columns: []\n",
            "Index: []\n"
          ]
        }
      ]
    },
    {
      "cell_type": "code",
      "source": [
        "def scrape_indeed(job_title, location, pages=1):\n",
        "    job_title = job_title.replace(\" \", \"+\")\n",
        "    job_list = []\n",
        "\n",
        "    headers = {\"User-Agent\": \"Mozilla/5.0\"}\n",
        "\n",
        "    for page in range(0, pages * 10, 10):\n",
        "        url = f\"https://www.indeed.com/jobs?q={job_title}&l={location}&start={page}\"\n",
        "        res = requests.get(url, headers=headers)\n",
        "        soup = BeautifulSoup(res.text, \"html.parser\")\n",
        "        jobs = soup.find_all(\"div\", class_=\"job_seen_beacon\")\n",
        "\n",
        "        for job in jobs:\n",
        "            title = job.find(\"h2\", class_=\"jobTitle\")\n",
        "            company = job.find(\"span\", class_=\"companyName\")\n",
        "            loc = job.find(\"div\", class_=\"companyLocation\")\n",
        "            summary = job.find(\"div\", class_=\"job-snippet\")\n",
        "            date = job.find(\"span\", class_=\"date\")\n",
        "            salary = job.find(\"div\", class_=\"attribute_snippet\")\n",
        "\n",
        "            job_list.append({\n",
        "                \"Title\": title.text.strip() if title else None,\n",
        "                \"Company\": company.text.strip() if company else None,\n",
        "                \"Location\": loc.text.strip() if loc else None,\n",
        "                \"Summary\": summary.text.strip() if summary else None,\n",
        "                \"Posted\": date.text.strip() if date else None,\n",
        "                \"Salary\": salary.text.strip() if salary else \"Not disclosed\"\n",
        "            })\n",
        "\n",
        "    return pd.DataFrame(job_list)\n",
        "\n",
        "\n"
      ],
      "metadata": {
        "id": "-5AaIlULp6T9"
      },
      "execution_count": 26,
      "outputs": []
    },
    {
      "cell_type": "code",
      "source": [
        "df_jobs = scrape_indeed(\"cyber security\", \"Florida\", pages=2)\n",
        "df_jobs.to_csv(\"cyber_jobs_florida.csv\", index=False)"
      ],
      "metadata": {
        "id": "2ubO_QNXrFVl"
      },
      "execution_count": 30,
      "outputs": []
    },
    {
      "cell_type": "code",
      "source": [
        "# List of all 50 US states in abbreviated form\n",
        "states = ['AL', 'AK', 'AZ', 'AR', 'CA', 'CO', 'CT', 'DE', 'FL', 'GA',\n",
        "          'HI', 'ID', 'IL', 'IN', 'IA', 'KS', 'KY', 'LA', 'ME', 'MD',\n",
        "          'MA', 'MI', 'MN', 'MS', 'MO', 'MT', 'NE', 'NV', 'NH', 'NJ',\n",
        "          'NM', 'NY', 'NC', 'ND', 'OH', 'OK', 'OR', 'PA', 'RI', 'SC',\n",
        "          'SD', 'TN', 'TX', 'UT', 'VT', 'VA', 'WA', 'WV', 'WI', 'WY']\n",
        "\n",
        "job_title = \"cybersecurity\"\n",
        "base_url = \"https://www.indeed.com/jobs?q={}&l={}&remotejob=1\"\n",
        "\n",
        "headers = {\n",
        "    \"User-Agent\": \"Mozilla/5.0\"\n",
        "}\n",
        "\n",
        "all_jobs = []\n",
        "\n",
        "# Loop through each state\n",
        "for state in states:\n",
        "    url = base_url.format(job_title, state)\n",
        "    response = requests.get(url, headers=headers)\n",
        "    soup = BeautifulSoup(response.text, 'html.parser')\n",
        "\n",
        "    for job_card in soup.find_all('a', class_='tapItem'):\n",
        "        title = job_card.find('h2', class_='jobTitle').text.strip() if job_card.find('h2') else ''\n",
        "        company = job_card.find('span', class_='companyName').text.strip() if job_card.find('span', class_='companyName') else ''\n",
        "        location = job_card.find('div', class_='companyLocation').text.strip() if job_card.find('div', class_='companyLocation') else ''\n",
        "        summary = job_card.find('div', class_='job-snippet').text.strip().replace('\\n', ' ') if job_card.find('div', class_='job-snippet') else ''\n",
        "        link = \"https://www.indeed.com\" + job_card.get('href')\n",
        "\n",
        "        all_jobs.append({\n",
        "            \"State\": state,\n",
        "            \"Title\": title,\n",
        "            \"Company\": company,\n",
        "            \"Location\": location,\n",
        "            \"Short Description\": summary,\n",
        "            \"Detail Link\": link\n",
        "        })\n",
        "# Save to CSV\n",
        "df = pd.DataFrame(all_jobs)\n",
        "df.to_csv(\"remote_cybersecurity_jobs_us.csv\", index=False)\n",
        "\n",
        "# Download to local system\n",
        "from google.colab import files\n",
        "files.download(\"remote_cybersecurity_jobs_us.csv\")"
      ],
      "metadata": {
        "colab": {
          "base_uri": "https://localhost:8080/",
          "height": 17
        },
        "id": "S_sX0HwyrYSb",
        "outputId": "586a58cc-6718-44b8-8de0-646fe7b8f503"
      },
      "execution_count": 32,
      "outputs": [
        {
          "output_type": "display_data",
          "data": {
            "text/plain": [
              "<IPython.core.display.Javascript object>"
            ],
            "application/javascript": [
              "\n",
              "    async function download(id, filename, size) {\n",
              "      if (!google.colab.kernel.accessAllowed) {\n",
              "        return;\n",
              "      }\n",
              "      const div = document.createElement('div');\n",
              "      const label = document.createElement('label');\n",
              "      label.textContent = `Downloading \"${filename}\": `;\n",
              "      div.appendChild(label);\n",
              "      const progress = document.createElement('progress');\n",
              "      progress.max = size;\n",
              "      div.appendChild(progress);\n",
              "      document.body.appendChild(div);\n",
              "\n",
              "      const buffers = [];\n",
              "      let downloaded = 0;\n",
              "\n",
              "      const channel = await google.colab.kernel.comms.open(id);\n",
              "      // Send a message to notify the kernel that we're ready.\n",
              "      channel.send({})\n",
              "\n",
              "      for await (const message of channel.messages) {\n",
              "        // Send a message to notify the kernel that we're ready.\n",
              "        channel.send({})\n",
              "        if (message.buffers) {\n",
              "          for (const buffer of message.buffers) {\n",
              "            buffers.push(buffer);\n",
              "            downloaded += buffer.byteLength;\n",
              "            progress.value = downloaded;\n",
              "          }\n",
              "        }\n",
              "      }\n",
              "      const blob = new Blob(buffers, {type: 'application/binary'});\n",
              "      const a = document.createElement('a');\n",
              "      a.href = window.URL.createObjectURL(blob);\n",
              "      a.download = filename;\n",
              "      div.appendChild(a);\n",
              "      a.click();\n",
              "      div.remove();\n",
              "    }\n",
              "  "
            ]
          },
          "metadata": {}
        },
        {
          "output_type": "display_data",
          "data": {
            "text/plain": [
              "<IPython.core.display.Javascript object>"
            ],
            "application/javascript": [
              "download(\"download_36e8df27-c4cf-43d5-9613-941560db4aa2\", \"remote_cybersecurity_jobs_us.csv\", 1)"
            ]
          },
          "metadata": {}
        }
      ]
    },
    {
      "cell_type": "code",
      "source": [],
      "metadata": {
        "id": "IoTCB0SHr60t"
      },
      "execution_count": null,
      "outputs": []
    }
  ]
}